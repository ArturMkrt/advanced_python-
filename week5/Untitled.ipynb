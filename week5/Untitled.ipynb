{
 "cells": [
  {
   "cell_type": "code",
   "execution_count": 186,
   "metadata": {},
   "outputs": [],
   "source": [
    "class Polygon:\n",
    "    def __init__(self, n_of_sides):\n",
    "        self.n = n_of_sides\n",
    "        self.sides = list()\n",
    "\n",
    "    def input_sides(self, sides):\n",
    "        self.sides = sides\n",
    "        print(self.sides)\n",
    "\n",
    "    def disp_sides(self):\n",
    "        for i in range(self.n):\n",
    "            print(\"Side\",i+1,\"is\",self.sides[i])\n",
    "            \n",
    "    def get_perimeter(self):\n",
    "        return sum(self.sides)\n",
    "\n",
    "class Quadrilatera(Polygon):\n",
    "    def __init__(self):\n",
    "        super().__init__(4)\n",
    "class  Rectangle(Quadrilatera):\n",
    "    def __init__(self):\n",
    "        super().__init__()   \n",
    "    def input_sides(self,s):\n",
    "        super().input_sides(s*2)\n",
    "    def get_area(self):\n",
    "        return self.sides[0]*self.sides[1]\n",
    "class  Square(Rectangle):\n",
    "    def __init__(self):\n",
    "        super().__init__()\n",
    "    def input_sides(self,s):\n",
    "        super().input_sides(s*2)\n",
    "    def get_area(self):\n",
    "        print(super().get_area())"
   ]
  },
  {
   "cell_type": "code",
   "execution_count": 187,
   "metadata": {},
   "outputs": [],
   "source": [
    "x = Rectangle()\n",
    "y = Square()"
   ]
  },
  {
   "cell_type": "code",
   "execution_count": 188,
   "metadata": {},
   "outputs": [
    {
     "name": "stdout",
     "output_type": "stream",
     "text": [
      "[4, 5, 4, 5]\n"
     ]
    }
   ],
   "source": [
    "x.input_sides([4,5])"
   ]
  },
  {
   "cell_type": "code",
   "execution_count": 189,
   "metadata": {},
   "outputs": [
    {
     "name": "stdout",
     "output_type": "stream",
     "text": [
      "Side 1 is 4\n",
      "Side 2 is 5\n",
      "Side 3 is 4\n",
      "Side 4 is 5\n"
     ]
    }
   ],
   "source": [
    "x.disp_sides()"
   ]
  },
  {
   "cell_type": "code",
   "execution_count": 190,
   "metadata": {},
   "outputs": [
    {
     "name": "stdout",
     "output_type": "stream",
     "text": [
      "[6, 6, 6, 6]\n"
     ]
    }
   ],
   "source": [
    "y.input_sides([6])"
   ]
  },
  {
   "cell_type": "code",
   "execution_count": 191,
   "metadata": {},
   "outputs": [
    {
     "name": "stdout",
     "output_type": "stream",
     "text": [
      "Side 1 is 6\n",
      "Side 2 is 6\n",
      "Side 3 is 6\n",
      "Side 4 is 6\n"
     ]
    }
   ],
   "source": [
    "y.disp_sides()"
   ]
  },
  {
   "cell_type": "code",
   "execution_count": 192,
   "metadata": {},
   "outputs": [
    {
     "data": {
      "text/plain": [
       "20"
      ]
     },
     "execution_count": 192,
     "metadata": {},
     "output_type": "execute_result"
    }
   ],
   "source": [
    "x.get_area()"
   ]
  },
  {
   "cell_type": "code",
   "execution_count": 193,
   "metadata": {},
   "outputs": [
    {
     "name": "stdout",
     "output_type": "stream",
     "text": [
      "36\n"
     ]
    }
   ],
   "source": [
    "y.get_area()"
   ]
  },
  {
   "cell_type": "code",
   "execution_count": null,
   "metadata": {},
   "outputs": [],
   "source": []
  },
  {
   "cell_type": "code",
   "execution_count": null,
   "metadata": {},
   "outputs": [],
   "source": []
  }
 ],
 "metadata": {
  "kernelspec": {
   "display_name": "Python 3",
   "language": "python",
   "name": "python3"
  },
  "language_info": {
   "codemirror_mode": {
    "name": "ipython",
    "version": 3
   },
   "file_extension": ".py",
   "mimetype": "text/x-python",
   "name": "python",
   "nbconvert_exporter": "python",
   "pygments_lexer": "ipython3",
   "version": "3.8.2"
  }
 },
 "nbformat": 4,
 "nbformat_minor": 4
}
